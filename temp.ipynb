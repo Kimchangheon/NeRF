{
 "cells": [
  {
   "cell_type": "code",
   "execution_count": 1,
   "outputs": [
    {
     "name": "stderr",
     "output_type": "stream",
     "text": [
      "/Users/gimchangheon/opt/anaconda3/envs/dl-challenge/lib/python3.7/site-packages/tqdm/auto.py:22: TqdmWarning: IProgress not found. Please update jupyter and ipywidgets. See https://ipywidgets.readthedocs.io/en/stable/user_install.html\n",
      "  from .autonotebook import tqdm as notebook_tqdm\n"
     ]
    }
   ],
   "source": [
    "import torch"
   ],
   "metadata": {
    "collapsed": false,
    "ExecuteTime": {
     "end_time": "2024-04-01T13:51:41.704464Z",
     "start_time": "2024-04-01T13:51:20.545336Z"
    }
   },
   "id": "c115b7f9d47fe195"
  },
  {
   "cell_type": "code",
   "execution_count": null,
   "id": "initial_id",
   "metadata": {
    "collapsed": true
   },
   "outputs": [],
   "source": [
    "def _get_D_No_Mask(self, sequence_length, image_patches_length):\n",
    "    n = torch.arange(sequence_length).unsqueeze(1) # \n",
    "    m = torch.arange(image_patches_length).unsqueeze(0)\n",
    "    denominator = m/n\n",
    "    # Broadcast self.gamma ** (n - m) with appropriate masking to set values where n < m to 0\n",
    "    D = (self.gamma ** (abs(n - m) // denominator) ) .float() # BiRetention\n",
    "    # fill the NaN with 0\n",
    "    D[D != D] = 0\n",
    "    return D\n",
    "def _get_D_No_Mask(self, sequence_length, image_patches_length):\n",
    "    n = torch.arange(sequence_length).unsqueeze(1)\n",
    "    Xm = torch.arrange(7)\n",
    "    Ym = torch.arrange(105)\n",
    "    denominator = m/n\n",
    "    # Broadcast self.gamma ** (n - m) with appropriate masking to set values where n < m to 0\n",
    "    D = (self.gamma ** (abs(n - m) // denominator) ) .float() # BiRetention\n",
    "    # fill the NaN with 0\n",
    "    D[D != D] = 0\n",
    "    return D"
   ]
  },
  {
   "cell_type": "code",
   "execution_count": 14,
   "outputs": [],
   "source": [
    "sequence_length = 97\n",
    "image_patches_length = 736\n",
    "n = torch.arange(sequence_length).unsqueeze(1) # \n",
    "m = torch.arange(image_patches_length).unsqueeze(0)\n",
    "denominator = m/n"
   ],
   "metadata": {
    "collapsed": false,
    "ExecuteTime": {
     "end_time": "2024-04-01T14:05:21.224909Z",
     "start_time": "2024-04-01T14:05:21.216563Z"
    }
   },
   "id": "96a3520d6a7f571d"
  },
  {
   "cell_type": "code",
   "execution_count": 20,
   "outputs": [
    {
     "data": {
      "text/plain": "(tensor(735.),\n tensor(0.),\n tensor([[  0.0000,   1.0000,   2.0000,  ..., 733.0000, 734.0000, 735.0000],\n         [  7.6562,   6.6562,   5.6562,  ..., 725.3438, 726.3438, 727.3438],\n         [ 15.3125,  14.3125,  13.3125,  ..., 717.6875, 718.6875, 719.6875],\n         ...,\n         [719.6875, 718.6875, 717.6875,  ...,  13.3125,  14.3125,  15.3125],\n         [727.3438, 726.3438, 725.3438,  ...,   5.6562,   6.6562,   7.6562],\n         [735.0000, 734.0000, 733.0000,  ...,   2.0000,   1.0000,   0.0000]]))"
     },
     "execution_count": 20,
     "metadata": {},
     "output_type": "execute_result"
    }
   ],
   "source": [
    "# Calculate the scale factor for direct scaling of 'n' to 'm'\n",
    "scale_factor = (image_patches_length - 1) / (sequence_length - 1)\n",
    "\n",
    "# Scale 'n' indices directly to 'm' space\n",
    "n_scaled_direct = torch.arange(sequence_length).float() * scale_factor\n",
    "\n",
    "# Calculate the distance using the directly scaled 'n' and the original 'm' indices\n",
    "distance_direct_scaled = abs(n_scaled_direct.unsqueeze(1) - torch.arange(image_patches_length).float())\n",
    "\n",
    "# Check the first and last distances\n",
    "first_distance = distance_direct_scaled[0, -1]\n",
    "last_distance = distance_direct_scaled[-1, -1]\n",
    "\n",
    "first_distance, last_distance, distance_direct_scaled\n"
   ],
   "metadata": {
    "collapsed": false,
    "ExecuteTime": {
     "end_time": "2024-04-01T14:14:55.654664Z",
     "start_time": "2024-04-01T14:14:55.643356Z"
    }
   },
   "id": "5a814790c366de87"
  },
  {
   "cell_type": "code",
   "execution_count": 24,
   "outputs": [
    {
     "data": {
      "text/plain": "(tensor(96.),\n tensor(0.),\n tensor([[ 0.0000,  0.1306,  0.2612,  ..., 95.7388, 95.8694, 96.0000],\n         [ 1.0000,  0.8694,  0.7388,  ..., 94.7388, 94.8694, 95.0000],\n         [ 2.0000,  1.8694,  1.7388,  ..., 93.7388, 93.8694, 94.0000],\n         ...,\n         [94.0000, 93.8694, 93.7388,  ...,  1.7388,  1.8694,  2.0000],\n         [95.0000, 94.8694, 94.7388,  ...,  0.7388,  0.8694,  1.0000],\n         [96.0000, 95.8694, 95.7388,  ...,  0.2612,  0.1306,  0.0000]]))"
     },
     "execution_count": 24,
     "metadata": {},
     "output_type": "execute_result"
    }
   ],
   "source": [
    "\n",
    "# Calculate the scale factor for direct scaling of 'n' to 'm'\n",
    "scale_factor = (image_patches_length - 1) / (sequence_length - 1)\n",
    "\n",
    "# Scale 'n' indices directly to 'm' space\n",
    "n_scaled_direct = torch.arange(sequence_length).float() * scale_factor\n",
    "\n",
    "# Calculate the distance using the directly scaled 'n' and the original 'm' indices\n",
    "distance_direct_scaled = abs(n_scaled_direct.unsqueeze(1) - torch.arange(image_patches_length).float())\n",
    "# Normalize the distances to fit within the range of 0 to sequence_length - 1\n",
    "distance_normalized = distance_direct_scaled * (sequence_length - 1) / (image_patches_length - 1)\n",
    "\n",
    "# Check the first and last normalized distances\n",
    "first_distance_normalized = distance_normalized[0, -1]\n",
    "last_distance_normalized = distance_normalized[-1, -1]\n",
    "\n",
    "first_distance_normalized, last_distance_normalized, distance_normalized\n"
   ],
   "metadata": {
    "collapsed": false,
    "ExecuteTime": {
     "end_time": "2024-04-01T14:20:05.256541Z",
     "start_time": "2024-04-01T14:20:05.244015Z"
    }
   },
   "id": "39fa09c5ef8a25d9"
  },
  {
   "cell_type": "code",
   "execution_count": 26,
   "outputs": [
    {
     "data": {
      "text/plain": "tensor(96.)"
     },
     "execution_count": 26,
     "metadata": {},
     "output_type": "execute_result"
    }
   ],
   "source": [
    "first_distance_normalized"
   ],
   "metadata": {
    "collapsed": false,
    "ExecuteTime": {
     "end_time": "2024-04-01T14:21:06.745577Z",
     "start_time": "2024-04-01T14:21:06.736544Z"
    }
   },
   "id": "3aee702af710ac9a"
  },
  {
   "cell_type": "code",
   "execution_count": 25,
   "outputs": [
    {
     "data": {
      "text/plain": "torch.Size([97, 736])"
     },
     "execution_count": 25,
     "metadata": {},
     "output_type": "execute_result"
    }
   ],
   "source": [
    "distance_normalized.shape"
   ],
   "metadata": {
    "collapsed": false,
    "ExecuteTime": {
     "end_time": "2024-04-01T14:20:08.228826Z",
     "start_time": "2024-04-01T14:20:08.217188Z"
    }
   },
   "id": "d62606a82a2324f8"
  },
  {
   "cell_type": "code",
   "execution_count": 21,
   "outputs": [
    {
     "data": {
      "text/plain": "torch.Size([97, 736])"
     },
     "execution_count": 21,
     "metadata": {},
     "output_type": "execute_result"
    }
   ],
   "source": [
    "distance_direct_scaled.shape"
   ],
   "metadata": {
    "collapsed": false,
    "ExecuteTime": {
     "end_time": "2024-04-01T14:15:00.898552Z",
     "start_time": "2024-04-01T14:15:00.892556Z"
    }
   },
   "id": "e49b63cfc434c6d3"
  },
  {
   "cell_type": "code",
   "execution_count": 17,
   "outputs": [
    {
     "data": {
      "text/plain": "torch.Size([1, 736])"
     },
     "execution_count": 17,
     "metadata": {},
     "output_type": "execute_result"
    }
   ],
   "source": [
    "m.shape"
   ],
   "metadata": {
    "collapsed": false,
    "ExecuteTime": {
     "end_time": "2024-04-01T14:05:44.376719Z",
     "start_time": "2024-04-01T14:05:44.368381Z"
    }
   },
   "id": "f4730370b4e9a596"
  },
  {
   "cell_type": "code",
   "execution_count": 15,
   "outputs": [
    {
     "data": {
      "text/plain": "tensor([[       nan,        inf,        inf,  ...,        inf,        inf,\n                inf],\n        [0.0000e+00, 1.0000e+00, 2.0000e+00,  ..., 7.3300e+02, 7.3400e+02,\n         7.3500e+02],\n        [0.0000e+00, 5.0000e-01, 1.0000e+00,  ..., 3.6650e+02, 3.6700e+02,\n         3.6750e+02],\n        ...,\n        [0.0000e+00, 1.0638e-02, 2.1277e-02,  ..., 7.7979e+00, 7.8085e+00,\n         7.8191e+00],\n        [0.0000e+00, 1.0526e-02, 2.1053e-02,  ..., 7.7158e+00, 7.7263e+00,\n         7.7368e+00],\n        [0.0000e+00, 1.0417e-02, 2.0833e-02,  ..., 7.6354e+00, 7.6458e+00,\n         7.6562e+00]])"
     },
     "execution_count": 15,
     "metadata": {},
     "output_type": "execute_result"
    }
   ],
   "source": [
    "denominator"
   ],
   "metadata": {
    "collapsed": false,
    "ExecuteTime": {
     "end_time": "2024-04-01T14:05:28.374980Z",
     "start_time": "2024-04-01T14:05:28.369803Z"
    }
   },
   "id": "a4941bdd0845619"
  },
  {
   "cell_type": "code",
   "execution_count": 7,
   "outputs": [],
   "source": [
    "sequence_length = 97\n",
    "image_patches_length = 736\n",
    "n = torch.arange(sequence_length).unsqueeze(1) # \n",
    "m = torch.arange(image_patches_length).unsqueeze(0)"
   ],
   "metadata": {
    "collapsed": false,
    "ExecuteTime": {
     "end_time": "2024-04-01T13:53:49.887053Z",
     "start_time": "2024-04-01T13:53:49.877315Z"
    }
   },
   "id": "8e2d128cfbb09679"
  },
  {
   "cell_type": "code",
   "execution_count": 18,
   "outputs": [
    {
     "data": {
      "text/plain": "tensor([[  0,   1,   2,  ..., 733, 734, 735],\n        [  1,   0,   1,  ..., 732, 733, 734],\n        [  2,   1,   0,  ..., 731, 732, 733],\n        ...,\n        [ 94,  93,  92,  ..., 639, 640, 641],\n        [ 95,  94,  93,  ..., 638, 639, 640],\n        [ 96,  95,  94,  ..., 637, 638, 639]])"
     },
     "execution_count": 18,
     "metadata": {},
     "output_type": "execute_result"
    }
   ],
   "source": [
    "distance = abs(n - m)"
   ],
   "metadata": {
    "collapsed": false,
    "ExecuteTime": {
     "end_time": "2024-04-01T14:06:31.395554Z",
     "start_time": "2024-04-01T14:06:31.391073Z"
    }
   },
   "id": "b214438126ed7a30"
  },
  {
   "cell_type": "code",
   "execution_count": null,
   "outputs": [],
   "source": [
    "from this distance matrix, I want to scale it, because 2 sequences are differnet length, It should be aligned relatively. how Can I modify it? "
   ],
   "metadata": {
    "collapsed": false
   },
   "id": "c6fd20d6baab7c06"
  },
  {
   "cell_type": "code",
   "execution_count": 19,
   "outputs": [
    {
     "data": {
      "text/plain": "tensor([[       nan, 0.0000e+00, 0.0000e+00,  ..., 0.0000e+00, 0.0000e+00,\n         0.0000e+00],\n        [       inf, 0.0000e+00, 0.0000e+00,  ..., 0.0000e+00, 0.0000e+00,\n         0.0000e+00],\n        [       inf, 2.0000e+00, 0.0000e+00,  ..., 1.0000e+00, 1.0000e+00,\n         1.0000e+00],\n        ...,\n        [       inf, 8.7420e+03, 4.3240e+03,  ..., 8.1000e+01, 8.1000e+01,\n         8.1000e+01],\n        [       inf, 8.9290e+03, 4.4170e+03,  ..., 8.2000e+01, 8.2000e+01,\n         8.2000e+01],\n        [       inf, 9.1190e+03, 4.5110e+03,  ..., 8.3000e+01, 8.3000e+01,\n         8.3000e+01]])"
     },
     "execution_count": 19,
     "metadata": {},
     "output_type": "execute_result"
    }
   ],
   "source": [
    "(abs(n - m) // denominator)"
   ],
   "metadata": {
    "collapsed": false,
    "ExecuteTime": {
     "end_time": "2024-04-01T14:06:31.634869Z",
     "start_time": "2024-04-01T14:06:31.620105Z"
    }
   },
   "id": "72b1a91cabf98eac"
  },
  {
   "cell_type": "code",
   "execution_count": 9,
   "outputs": [
    {
     "data": {
      "text/plain": "tensor([[  0,   1,   2,  ..., 733, 734, 735],\n        [  1,   0,   1,  ..., 732, 733, 734],\n        [  2,   1,   0,  ..., 731, 732, 733],\n        ...,\n        [ 94,  93,  92,  ..., 639, 640, 641],\n        [ 95,  94,  93,  ..., 638, 639, 640],\n        [ 96,  95,  94,  ..., 637, 638, 639]])"
     },
     "execution_count": 9,
     "metadata": {},
     "output_type": "execute_result"
    }
   ],
   "source": [
    "abs(n - m)"
   ],
   "metadata": {
    "collapsed": false,
    "ExecuteTime": {
     "end_time": "2024-04-01T13:54:18.562202Z",
     "start_time": "2024-04-01T13:54:18.549865Z"
    }
   },
   "id": "a61b3a3a720efc91"
  },
  {
   "cell_type": "code",
   "execution_count": 8,
   "outputs": [
    {
     "data": {
      "text/plain": "tensor([[ 0.,  0.,  0.,  ..., 96., 96., 96.],\n        [ 0.,  0.,  0.,  ..., 96., 96., 96.],\n        [ 0.,  0.,  0.,  ..., 96., 96., 96.],\n        ...,\n        [12., 12., 12.,  ..., 84., 84., 84.],\n        [12., 12., 12.,  ..., 84., 84., 84.],\n        [12., 12., 12.,  ..., 83., 84., 84.]])"
     },
     "execution_count": 8,
     "metadata": {},
     "output_type": "execute_result"
    }
   ],
   "source": [
    "(abs(n - m) // denominator)\n"
   ],
   "metadata": {
    "collapsed": false,
    "ExecuteTime": {
     "end_time": "2024-04-01T13:53:52.922904Z",
     "start_time": "2024-04-01T13:53:52.906939Z"
    }
   },
   "id": "5c7048a355e7f9a3"
  },
  {
   "cell_type": "code",
   "execution_count": 13,
   "outputs": [
    {
     "data": {
      "text/plain": "tensor([ 0.,  0.,  0.,  0.,  0.,  0.,  0.,  0.,  1.,  1.,  1.,  1.,  1.,  1.,\n         1.,  1.,  2.,  2.,  2.,  2.,  2.,  2.,  2.,  3.,  3.,  3.,  3.,  3.,\n         3.,  3.,  3.,  4.,  4.,  4.,  4.,  4.,  4.,  4.,  5.,  5.,  5.,  5.,\n         5.,  5.,  5.,  5.,  6.,  6.,  6.,  6.,  6.,  6.,  6.,  6.,  7.,  7.,\n         7.,  7.,  7.,  7.,  7.,  8.,  8.,  8.,  8.,  8.,  8.,  8.,  8.,  9.,\n         9.,  9.,  9.,  9.,  9.,  9., 10., 10., 10., 10., 10., 10., 10., 10.,\n        11., 11., 11., 11., 11., 11., 11., 11., 12., 12., 12., 12., 12., 12.,\n        12., 13., 13., 13., 13., 13., 13., 13., 13., 14., 14., 14., 14., 14.,\n        14., 14., 15., 15., 15., 15., 15., 15., 15., 15., 16., 16., 16., 16.,\n        16., 16., 16., 17., 17., 17., 17., 17., 17., 17., 17., 18., 18., 18.,\n        18., 18., 18., 18., 18., 19., 19., 19., 19., 19., 19., 19., 20., 20.,\n        20., 20., 20., 20., 20., 20., 21., 21., 21., 21., 21., 21., 21., 22.,\n        22., 22., 22., 22., 22., 22., 22., 23., 23., 23., 23., 23., 23., 23.,\n        23., 24., 24., 24., 24., 24., 24., 24., 25., 25., 25., 25., 25., 25.,\n        25., 25., 26., 26., 26., 26., 26., 26., 26., 27., 27., 27., 27., 27.,\n        27., 27., 27., 28., 28., 28., 28., 28., 28., 28., 28., 29., 29., 29.,\n        29., 29., 29., 29., 30., 30., 30., 30., 30., 30., 30., 30., 31., 31.,\n        31., 31., 31., 31., 31., 32., 32., 32., 32., 32., 32., 32., 32., 33.,\n        33., 33., 33., 33., 33., 33., 34., 34., 34., 34., 34., 34., 34., 34.,\n        35., 35., 35., 35., 35., 35., 35., 35., 36., 36., 36., 36., 36., 36.,\n        36., 37., 37., 37., 37., 37., 37., 37., 37., 38., 38., 38., 38., 38.,\n        38., 38., 39., 39., 39., 39., 39., 39., 39., 39., 40., 40., 40., 40.,\n        40., 40., 40., 40., 41., 41., 41., 41., 41., 41., 41., 42., 42., 42.,\n        42., 42., 42., 42., 42., 43., 43., 43., 43., 43., 43., 43., 44., 44.,\n        44., 44., 44., 44., 44., 44., 45., 45., 45., 45., 45., 45., 45., 45.,\n        46., 46., 46., 46., 46., 46., 46., 47., 47., 47., 47., 47., 47., 47.,\n        47., 48., 48., 48., 48., 48., 48., 48., 49., 49., 49., 49., 49., 49.,\n        49., 49., 50., 50., 50., 50., 50., 50., 50., 51., 51., 51., 51., 51.,\n        51., 51., 51., 52., 52., 52., 52., 52., 52., 52., 52., 53., 53., 53.,\n        53., 53., 53., 53., 54., 54., 54., 54., 54., 54., 54., 54., 55., 55.,\n        55., 55., 55., 55., 55., 56., 56., 56., 56., 56., 56., 56., 56., 57.,\n        57., 57., 57., 57., 57., 57., 57., 58., 58., 58., 58., 58., 58., 58.,\n        59., 59., 59., 59., 59., 59., 59., 59., 60., 60., 60., 60., 60., 60.,\n        60., 61., 61., 61., 61., 61., 61., 61., 61., 62., 62., 62., 62., 62.,\n        62., 62., 62., 63., 63., 63., 63., 63., 63., 63., 64., 64., 64., 64.,\n        64., 64., 64., 64., 65., 65., 65., 65., 65., 65., 65., 66., 66., 66.,\n        66., 66., 66., 66., 66., 67., 67., 67., 67., 67., 67., 67., 68., 68.,\n        68., 68., 68., 68., 68., 68., 69., 69., 69., 69., 69., 69., 69., 69.,\n        70., 70., 70., 70., 70., 70., 70., 71., 71., 71., 71., 71., 71., 71.,\n        71., 72., 72., 72., 72., 72., 72., 72., 73., 73., 73., 73., 73., 73.,\n        73., 73., 74., 74., 74., 74., 74., 74., 74., 74., 75., 75., 75., 75.,\n        75., 75., 75., 76., 76., 76., 76., 76., 76., 76., 76., 77., 77., 77.,\n        77., 77., 77., 77., 78., 78., 78., 78., 78., 78., 78., 78., 79., 79.,\n        79., 79., 79., 79., 79., 79., 80., 80., 80., 80., 80., 80., 80., 81.,\n        81., 81., 81., 81., 81., 81., 81., 82., 82., 82., 82., 82., 82., 82.,\n        83., 83., 83., 83., 83., 83., 83., 83., 84., 84., 84., 84., 84., 84.,\n        84., 85., 85., 85., 85., 85., 85., 85., 85., 86., 86., 86., 86., 86.,\n        86., 86., 86., 87., 87., 87., 87., 87., 87., 87., 88., 88., 88., 88.,\n        88., 88., 88., 88., 89., 89., 89., 89., 89., 89., 89., 90., 90., 90.,\n        90., 90., 90., 90., 90., 91., 91., 91., 91., 91., 91., 91., 91., 92.,\n        92., 92., 92., 92., 92., 92., 93., 93., 93., 93., 93., 93., 93., 93.,\n        94., 94., 94., 94., 94., 94., 94., 95., 95., 95., 95., 95., 95., 95.,\n        95., 96., 96., 96., 96., 96., 96., 96.])"
     },
     "execution_count": 13,
     "metadata": {},
     "output_type": "execute_result"
    }
   ],
   "source": [
    "(abs(n - m) // denominator)[0]\n"
   ],
   "metadata": {
    "collapsed": false,
    "ExecuteTime": {
     "end_time": "2024-04-01T13:58:12.506062Z",
     "start_time": "2024-04-01T13:58:12.479991Z"
    }
   },
   "id": "fc621a00266325e9"
  },
  {
   "cell_type": "code",
   "execution_count": 12,
   "outputs": [
    {
     "data": {
      "text/plain": "tensor([12., 12., 12., 12., 12., 11., 11., 11., 11., 11., 11., 11., 11., 10.,\n        10., 10., 10., 10., 10., 10., 10.,  9.,  9.,  9.,  9.,  9.,  9.,  9.,\n         8.,  8.,  8.,  8.,  8.,  8.,  8.,  8.,  7.,  7.,  7.,  7.,  7.,  7.,\n         7.,  6.,  6.,  6.,  6.,  6.,  6.,  6.,  6.,  5.,  5.,  5.,  5.,  5.,\n         5.,  5.,  5.,  4.,  4.,  4.,  4.,  4.,  4.,  4.,  3.,  3.,  3.,  3.,\n         3.,  3.,  3.,  3.,  2.,  2.,  2.,  2.,  2.,  2.,  2.,  1.,  1.,  1.,\n         1.,  1.,  1.,  1.,  1.,  0.,  0.,  0.,  0.,  0.,  0.,  0.,  0.,  0.,\n         0.,  0.,  0.,  0.,  0.,  0.,  1.,  1.,  1.,  1.,  1.,  1.,  1.,  1.,\n         2.,  2.,  2.,  2.,  2.,  2.,  2.,  3.,  3.,  3.,  3.,  3.,  3.,  3.,\n         3.,  4.,  4.,  4.,  4.,  4.,  4.,  4.,  5.,  5.,  5.,  5.,  5.,  5.,\n         5.,  5.,  6.,  6.,  6.,  6.,  6.,  6.,  6.,  6.,  7.,  7.,  7.,  7.,\n         7.,  7.,  7.,  8.,  8.,  8.,  8.,  8.,  8.,  8.,  8.,  9.,  9.,  9.,\n         9.,  9.,  9.,  9., 10., 10., 10., 10., 10., 10., 10., 10., 11., 11.,\n        11., 11., 11., 11., 11., 11., 12., 12., 12., 12., 12., 12., 12., 13.,\n        13., 13., 13., 13., 13., 13., 13., 14., 14., 14., 14., 14., 14., 14.,\n        15., 15., 15., 15., 15., 15., 15., 15., 16., 16., 16., 16., 16., 16.,\n        16., 17., 17., 17., 17., 17., 17., 17., 17., 18., 18., 18., 18., 18.,\n        18., 18., 18., 19., 19., 19., 19., 19., 19., 19., 20., 20., 20., 20.,\n        20., 20., 20., 20., 21., 21., 21., 21., 21., 21., 21., 22., 22., 22.,\n        22., 22., 22., 22., 22., 23., 23., 23., 23., 23., 23., 23., 23., 24.,\n        24., 24., 24., 24., 24., 24., 25., 25., 25., 25., 25., 25., 25., 25.,\n        26., 26., 26., 26., 26., 26., 26., 27., 27., 27., 27., 27., 27., 27.,\n        27., 28., 28., 28., 28., 28., 28., 28., 28., 29., 29., 29., 29., 29.,\n        29., 29., 30., 30., 30., 30., 30., 30., 30., 30., 31., 31., 31., 31.,\n        31., 31., 31., 32., 32., 32., 32., 32., 32., 32., 32., 33., 33., 33.,\n        33., 33., 33., 33., 34., 34., 34., 34., 34., 34., 34., 34., 35., 35.,\n        35., 35., 35., 35., 35., 35., 36., 36., 36., 36., 36., 36., 36., 37.,\n        37., 37., 37., 37., 37., 37., 37., 38., 38., 38., 38., 38., 38., 38.,\n        39., 39., 39., 39., 39., 39., 39., 39., 40., 40., 40., 40., 40., 40.,\n        40., 40., 41., 41., 41., 41., 41., 41., 41., 42., 42., 42., 42., 42.,\n        42., 42., 42., 43., 43., 43., 43., 43., 43., 43., 44., 44., 44., 44.,\n        44., 44., 44., 44., 45., 45., 45., 45., 45., 45., 45., 45., 46., 46.,\n        46., 46., 46., 46., 46., 47., 47., 47., 47., 47., 47., 47., 47., 48.,\n        48., 48., 48., 48., 48., 48., 49., 49., 49., 49., 49., 49., 49., 49.,\n        50., 50., 50., 50., 50., 50., 50., 51., 51., 51., 51., 51., 51., 51.,\n        51., 52., 52., 52., 52., 52., 52., 52., 52., 53., 53., 53., 53., 53.,\n        53., 53., 54., 54., 54., 54., 54., 54., 54., 54., 55., 55., 55., 55.,\n        55., 55., 55., 56., 56., 56., 56., 56., 56., 56., 56., 57., 57., 57.,\n        57., 57., 57., 57., 57., 58., 58., 58., 58., 58., 58., 58., 59., 59.,\n        59., 59., 59., 59., 59., 59., 60., 60., 60., 60., 60., 60., 60., 61.,\n        61., 61., 61., 61., 61., 61., 61., 62., 62., 62., 62., 62., 62., 62.,\n        62., 63., 63., 63., 63., 63., 63., 63., 64., 64., 64., 64., 64., 64.,\n        64., 64., 65., 65., 65., 65., 65., 65., 65., 66., 66., 66., 66., 66.,\n        66., 66., 66., 67., 67., 67., 67., 67., 67., 67., 68., 68., 68., 68.,\n        68., 68., 68., 68., 69., 69., 69., 69., 69., 69., 69., 69., 70., 70.,\n        70., 70., 70., 70., 70., 71., 71., 71., 71., 71., 71., 71., 71., 72.,\n        72., 72., 72., 72., 72., 72., 73., 73., 73., 73., 73., 73., 73., 73.,\n        74., 74., 74., 74., 74., 74., 74., 74., 75., 75., 75., 75., 75., 75.,\n        75., 76., 76., 76., 76., 76., 76., 76., 76., 77., 77., 77., 77., 77.,\n        77., 77., 78., 78., 78., 78., 78., 78., 78., 78., 79., 79., 79., 79.,\n        79., 79., 79., 79., 80., 80., 80., 80., 80., 80., 80., 81., 81., 81.,\n        81., 81., 81., 81., 81., 82., 82., 82., 82., 82., 82., 82., 83., 83.,\n        83., 83., 83., 83., 83., 83., 84., 84.])"
     },
     "execution_count": 12,
     "metadata": {},
     "output_type": "execute_result"
    }
   ],
   "source": [
    "(abs(n - m) // denominator)[96]"
   ],
   "metadata": {
    "collapsed": false,
    "ExecuteTime": {
     "end_time": "2024-04-01T13:57:35.518267Z",
     "start_time": "2024-04-01T13:57:35.504589Z"
    }
   },
   "id": "95a1be8c027434f7"
  },
  {
   "cell_type": "code",
   "execution_count": null,
   "outputs": [],
   "source": [],
   "metadata": {
    "collapsed": false
   },
   "id": "160df29097640f87"
  }
 ],
 "metadata": {
  "kernelspec": {
   "display_name": "Python 3",
   "language": "python",
   "name": "python3"
  },
  "language_info": {
   "codemirror_mode": {
    "name": "ipython",
    "version": 2
   },
   "file_extension": ".py",
   "mimetype": "text/x-python",
   "name": "python",
   "nbconvert_exporter": "python",
   "pygments_lexer": "ipython2",
   "version": "2.7.6"
  }
 },
 "nbformat": 4,
 "nbformat_minor": 5
}
